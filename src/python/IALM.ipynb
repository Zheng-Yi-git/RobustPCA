{
 "cells": [
  {
   "cell_type": "code",
   "execution_count": 92,
   "metadata": {},
   "outputs": [],
   "source": [
    "import numpy as np \n",
    "from numpy.linalg import norm, svd\n",
    "\n",
    "def inexact_augmented_lagrange_multiplier(X, lmbda = 0.1, tol = 1e-7, maxIter = 1000):\n",
    "    Y = X\n",
    "    norm_two = norm(Y.ravel(), 2)\n",
    "    norm_inf = norm(Y.ravel(), np.inf) / lmbda\n",
    "    dual_norm = np.max([norm_two, norm_inf])\n",
    "    Y = Y /dual_norm\n",
    "    A = np.zeros(Y.shape)\n",
    "    E = np.zeros(Y.shape)\n",
    "    dnorm = norm(X, 'fro')\n",
    "    mu = 1.25 / norm_two\n",
    "    rho = 1.5\n",
    "    sv = 10.\n",
    "    n= Y.shape[1]\n",
    "    itr = 0\n",
    "    while True:\n",
    "        Eraw = X - A + (1/mu) * Y\n",
    "        Eupdate = np.maximum(Eraw - lmbda / mu, 0) + np.minimum(Eraw + lmbda / mu, 0)\n",
    "        U, S, V = svd(X - Eupdate + (1 / mu) * Y, full_matrices=False)\n",
    "        svp = (S > 1 / mu).shape[0]\n",
    "        if svp < sv:\n",
    "            sv = np.min([svp + 1, n])\n",
    "        else:\n",
    "            sv = np.min([svp + round(0.05 * n), n])\n",
    "\n",
    "        Aupdate = np.dot(np.dot(U[:, :svp], np.diag(S[:svp] - 1 / mu)), V[:svp, :])\n",
    "        A = Aupdate\n",
    "        E = Eupdate\n",
    "        print (itr)\n",
    "        Z = X - A - E\n",
    "        Y = Y + mu * Z\n",
    "        mu = np.min([mu * rho, mu * 1e7])\n",
    "        itr += 1\n",
    "        if ((norm(Z, 'fro') / dnorm) < tol) or (itr >= maxIter):\n",
    "            break\n",
    "    print(\"IALM Finished at iteration %d\" % (itr))\n",
    "    return A, E"
   ]
  },
  {
   "cell_type": "code",
   "execution_count": 213,
   "metadata": {},
   "outputs": [],
   "source": [
    "import numpy as np\n",
    "from numpy.linalg import norm, svd\n",
    "\n",
    "def IALM(D, lmbda = 0.1, tol = 1e-7, maxIter = 1000):\n",
    "    # initialize\n",
    "    Y = D\n",
    "    norm_two = norm(D.ravel(), 2)\n",
    "    norm_inf = norm(D.ravel(), np.inf) / lmbda\n",
    "    dual_norm = np.max([norm_two, norm_inf])\n",
    "    Y = D / dual_norm\n",
    "    \n",
    "    A_hat = np.zeros(Y.shape)\n",
    "    E_hat = np.zeros(Y.shape)\n",
    "    mu = 1.25 / norm_two\n",
    "    mu_bar = mu * 1e7\n",
    "    rho = 1.5\n",
    "    d_norm = norm(D, 'fro')\n",
    "\n",
    "    iter = 0 \n",
    "    total_svd = 0 \n",
    "    converged = False\n",
    "    stopCriterion = 1\n",
    "    sv = 10 \n",
    "    while (converged == False):         \n",
    "        iter = iter + 1\n",
    "        \n",
    "        temp_T = D - A_hat + (1 / mu) * Y\n",
    "        E_hat = np.maximum(temp_T - lmbda / mu, 0) + np.minimum(temp_T + lmbda / mu, 0)\n",
    "        U, S, V = svd(D - E_hat + (1 / mu) * Y, full_matrices=False)\n",
    "        \n",
    "        svp = (S > 1 / mu).shape[0]\n",
    "        if svp < sv:\n",
    "            sv = np.min([svp + 1, n]) \n",
    "        else:\n",
    "            sv = np.min([svp + round(0.05 * n), n]) \n",
    "        \n",
    "        A_hat = np.dot(np.dot(U[:, :svp], np.diag(S[:svp] - 1 / mu)), V[:svp, :])\n",
    "        # np.dot(np.dot(U[:, :svp], np.diag(S[:svp] - 1 / mu)), V[:svp, :]) \n",
    "\n",
    "        total_svd = total_svd + 1 \n",
    "        \n",
    "        Z = D - A_hat - E_hat \n",
    "        \n",
    "        Y = Y + mu * Z \n",
    "        mu = np.min([mu * rho, mu_bar]) \n",
    "\n",
    "        stopCriterion = norm(Z, 'fro') / d_norm \n",
    "        print(\"Iteration %d: mu = %f, sv = %d, stopCriterion = %f\" % (iter, mu, sv, stopCriterion))\n",
    "        if (stopCriterion < tol) or (iter >= maxIter):\n",
    "            converged = True \n",
    "        else:\n",
    "            converged = False\n",
    "    print(\"IALM Finished at iteration %d\" % (iter))\n",
    "    return A_hat, E_hat"
   ]
  },
  {
   "cell_type": "code",
   "execution_count": 214,
   "metadata": {},
   "outputs": [],
   "source": [
    "\n",
    "import numpy as np\n",
    "from scipy.stats import ortho_group\n",
    "\n",
    "def generate(n=100,s=200,rank=5):\n",
    "    s = (int)(0.05 * (n**2))\n",
    "    rank = (int)(0.05 * n)\n",
    "    m=ortho_group.rvs(n)\n",
    "    m=m[:rank]\n",
    "    for i in range(rank):\n",
    "        m[i]=m[i]*np.random.rand()*100\n",
    "    low_rank=np.matmul(m.T,m)\n",
    "    position=np.random.randint(0,n**2,s)\n",
    "    for i in position:\n",
    "        low_rank[i//n][i % n]+=(np.random.rand()-0.5)*100\n",
    "    return low_rank"
   ]
  },
  {
   "cell_type": "code",
   "execution_count": 228,
   "metadata": {},
   "outputs": [
    {
     "name": "stdout",
     "output_type": "stream",
     "text": [
      "0\n",
      "1\n",
      "2\n",
      "3\n",
      "4\n",
      "5\n",
      "6\n",
      "7\n",
      "8\n",
      "9\n",
      "10\n",
      "11\n",
      "12\n",
      "13\n",
      "14\n",
      "15\n",
      "16\n",
      "17\n",
      "18\n",
      "19\n",
      "20\n",
      "21\n",
      "22\n",
      "23\n",
      "24\n",
      "25\n",
      "26\n",
      "27\n",
      "28\n",
      "29\n",
      "30\n",
      "31\n",
      "32\n",
      "33\n",
      "34\n",
      "35\n",
      "36\n",
      "37\n",
      "IALM Finished at iteration 38\n"
     ]
    }
   ],
   "source": [
    "result = inexact_augmented_lagrange_multiplier(generate(n=1000), lmbda=0.1)"
   ]
  },
  {
   "cell_type": "code",
   "execution_count": 229,
   "metadata": {},
   "outputs": [
    {
     "data": {
      "text/plain": [
       "42850"
      ]
     },
     "execution_count": 229,
     "metadata": {},
     "output_type": "execute_result"
    }
   ],
   "source": [
    "np.sum(np.abs(result[1])>1e-2)"
   ]
  },
  {
   "cell_type": "code",
   "execution_count": 230,
   "metadata": {},
   "outputs": [
    {
     "data": {
      "text/plain": [
       "42850"
      ]
     },
     "execution_count": 230,
     "metadata": {},
     "output_type": "execute_result"
    }
   ],
   "source": [
    "np.sum(np.abs(result[1]) > 1e-2)"
   ]
  },
  {
   "cell_type": "code",
   "execution_count": 231,
   "metadata": {},
   "outputs": [
    {
     "data": {
      "text/plain": [
       "1000"
      ]
     },
     "execution_count": 231,
     "metadata": {},
     "output_type": "execute_result"
    }
   ],
   "source": [
    "np.linalg.matrix_rank(result[0])"
   ]
  },
  {
   "cell_type": "code",
   "execution_count": 78,
   "metadata": {},
   "outputs": [
    {
     "name": "stdout",
     "output_type": "stream",
     "text": [
      "0\n",
      "1\n",
      "2\n",
      "3\n",
      "4\n",
      "5\n",
      "6\n",
      "7\n",
      "8\n",
      "9\n",
      "10\n",
      "11\n",
      "12\n",
      "13\n",
      "14\n",
      "15\n",
      "16\n",
      "17\n",
      "18\n",
      "19\n",
      "20\n",
      "21\n",
      "22\n",
      "23\n",
      "24\n",
      "25\n",
      "26\n",
      "27\n",
      "28\n",
      "29\n",
      "30\n",
      "31\n",
      "32\n",
      "33\n",
      "34\n",
      "35\n",
      "IALM Finished at iteration 36\n"
     ]
    }
   ],
   "source": [
    "E = inexact_augmented_lagrange_multiplier(generate(n = 500, s = 10000, rank = 100))"
   ]
  },
  {
   "cell_type": "code",
   "execution_count": 83,
   "metadata": {},
   "outputs": [
    {
     "data": {
      "text/plain": [
       "9430"
      ]
     },
     "execution_count": 83,
     "metadata": {},
     "output_type": "execute_result"
    }
   ],
   "source": [
    "np.sum(np.abs(E[1]) > 1)"
   ]
  },
  {
   "cell_type": "code",
   "execution_count": 58,
   "metadata": {},
   "outputs": [
    {
     "name": "stdout",
     "output_type": "stream",
     "text": [
      "0\n",
      "1\n",
      "2\n",
      "3\n",
      "4\n",
      "5\n",
      "6\n",
      "7\n",
      "8\n",
      "9\n",
      "10\n",
      "11\n",
      "12\n",
      "13\n",
      "14\n",
      "15\n",
      "16\n",
      "17\n",
      "18\n",
      "19\n",
      "20\n",
      "21\n",
      "22\n",
      "23\n",
      "24\n",
      "25\n",
      "26\n",
      "27\n",
      "28\n",
      "29\n",
      "30\n",
      "31\n",
      "32\n",
      "33\n",
      "34\n",
      "35\n",
      "36\n",
      "37\n",
      "38\n",
      "39\n",
      "40\n",
      "41\n",
      "42\n",
      "43\n",
      "IALM Finished at iteration 44\n",
      "time consuming:  0.26505900000120164\n"
     ]
    },
    {
     "data": {
      "text/plain": [
       "3452"
      ]
     },
     "execution_count": 58,
     "metadata": {},
     "output_type": "execute_result"
    }
   ],
   "source": [
    "import time\n",
    "start = time.perf_counter()\n",
    "D = generate(100, 200, 5)\n",
    "result = inexact_augmented_lagrange_multiplier(D)\n",
    "end = time.perf_counter()\n",
    "print(\"time consuming: \", end - start)\n",
    "\n",
    "A = result[0]\n",
    "E = result[1]\n",
    "np.sum(np.abs(E)<10)"
   ]
  },
  {
   "cell_type": "code",
   "execution_count": 43,
   "metadata": {},
   "outputs": [
    {
     "data": {
      "text/plain": [
       "array([[ 477.19211543, -256.57598896,  -97.18881889, ...,    7.69830278,\n",
       "          75.63782441,  113.8659243 ],\n",
       "       [-264.64404402,  638.53637748, -149.50657516, ...,  227.13671337,\n",
       "        -165.70528904,  -24.39064209],\n",
       "       [-107.87706039, -152.0400572 ,  312.84791291, ..., -124.27455345,\n",
       "        -123.73281255, -153.68937529],\n",
       "       ...,\n",
       "       [  14.40060734,  230.26542373, -110.67683313, ...,  580.90046868,\n",
       "         132.37244874,  -83.37615985],\n",
       "       [  72.78153277, -165.89505768, -113.02342772, ...,  140.16660185,\n",
       "         432.72850937,  141.27290589],\n",
       "       [ 120.06679813,  -21.68386349, -148.59862322, ...,  -86.67361693,\n",
       "         144.53693221,  351.60761221]])"
      ]
     },
     "execution_count": 43,
     "metadata": {},
     "output_type": "execute_result"
    }
   ],
   "source": [
    "A"
   ]
  },
  {
   "cell_type": "code",
   "execution_count": 56,
   "metadata": {},
   "outputs": [
    {
     "data": {
      "text/plain": [
       "array([[32.47105474,  0.        ,  0.        , ...,  0.        ,\n",
       "         0.        ,  0.        ],\n",
       "       [ 0.        ,  0.        ,  0.        , ...,  0.        ,\n",
       "         0.        ,  0.        ],\n",
       "       [ 0.        ,  0.        ,  0.        , ...,  0.        ,\n",
       "         0.        ,  0.        ],\n",
       "       ...,\n",
       "       [ 0.        ,  0.        ,  0.        , ...,  0.        ,\n",
       "         0.        ,  0.        ],\n",
       "       [ 0.        ,  0.        ,  0.        , ...,  0.        ,\n",
       "         0.        ,  0.        ],\n",
       "       [ 0.        ,  0.        ,  0.        , ...,  0.        ,\n",
       "         0.        ,  0.        ]])"
      ]
     },
     "execution_count": 56,
     "metadata": {},
     "output_type": "execute_result"
    }
   ],
   "source": [
    "E"
   ]
  },
  {
   "cell_type": "code",
   "execution_count": 31,
   "metadata": {},
   "outputs": [
    {
     "data": {
      "text/plain": [
       "array([[ 1.67142080e+00,  7.41955669e-02, -3.07260983e+00, ...,\n",
       "         5.05286600e-01, -1.43612351e-02, -1.30532179e+00],\n",
       "       [ 4.87851514e-01, -1.50242862e+00,  5.82356681e+00, ...,\n",
       "        -4.98195708e-01, -1.87400325e-03, -1.07820836e+00],\n",
       "       [ 5.66260829e-01,  3.39747318e+00,  8.68440303e+01, ...,\n",
       "        -1.20573237e+01, -3.98225572e-01, -2.52936591e+01],\n",
       "       ...,\n",
       "       [ 4.38783406e-01, -3.82624769e-01, -1.42835420e+01, ...,\n",
       "         2.30436878e-01, -8.47149179e-01, -3.34534827e-01],\n",
       "       [ 2.63527232e-02, -1.91175685e-01, -6.57861246e-01, ...,\n",
       "        -2.81567472e-01,  2.65437622e+00,  1.62417048e+00],\n",
       "       [-2.47005989e+00, -1.31084846e+00, -2.49740970e+01, ...,\n",
       "        -7.66510704e-02,  1.11803466e+00,  1.94092164e+01]])"
      ]
     },
     "execution_count": 31,
     "metadata": {},
     "output_type": "execute_result"
    }
   ],
   "source": [
    "E"
   ]
  },
  {
   "cell_type": "code",
   "execution_count": 45,
   "metadata": {},
   "outputs": [
    {
     "data": {
      "text/plain": [
       "array([[ 549.62634371, -280.02343854, -113.95968383, ...,   -1.01287557,\n",
       "          65.03410359,  153.91273941],\n",
       "       [-280.02341649,  745.32096765, -192.87048182, ...,  318.24031493,\n",
       "        -165.42720055,  -13.32042791],\n",
       "       [-113.95967118, -192.87050169,  348.51386951, ..., -161.15162498,\n",
       "        -130.30252057, -168.27869747],\n",
       "       ...,\n",
       "       [  -1.01289757,  318.2403256 , -161.15159123, ...,  965.75186815,\n",
       "         198.76921222, -110.05095035],\n",
       "       [  65.03408512, -165.42716662, -130.30252533, ...,  198.76920089,\n",
       "         481.51216212,  141.4330283 ],\n",
       "       [ 153.91276387,  -13.32043942, -168.27869335, ..., -110.05096751,\n",
       "         141.43302639,  419.91951154]])"
      ]
     },
     "execution_count": 45,
     "metadata": {},
     "output_type": "execute_result"
    }
   ],
   "source": [
    "A+E"
   ]
  },
  {
   "cell_type": "code",
   "execution_count": 46,
   "metadata": {},
   "outputs": [
    {
     "data": {
      "text/plain": [
       "array([[ 549.62636486, -280.0234341 , -113.95968631, ...,   -1.0128952 ,\n",
       "          65.03410092,  153.91274898],\n",
       "       [-280.0234341 ,  745.32097596, -192.87050383, ...,  318.24030931,\n",
       "        -165.42719167,  -13.32043424],\n",
       "       [-113.95968631, -192.87050383,  348.51387545, ..., -161.15160828,\n",
       "        -130.30253588, -168.27869561],\n",
       "       ...,\n",
       "       [  -1.0128952 ,  318.24030931, -161.15160828, ...,  965.75188253,\n",
       "         198.76918208, -110.05093684],\n",
       "       [  65.03410092, -165.42719167, -130.30253588, ...,  198.76918208,\n",
       "         481.51216533,  141.43302657],\n",
       "       [ 153.91274898,  -13.32043424, -168.27869561, ..., -110.05093684,\n",
       "         141.43302657,  419.91951588]])"
      ]
     },
     "execution_count": 46,
     "metadata": {},
     "output_type": "execute_result"
    }
   ],
   "source": [
    "D"
   ]
  },
  {
   "cell_type": "code",
   "execution_count": 234,
   "metadata": {},
   "outputs": [
    {
     "name": "stdout",
     "output_type": "stream",
     "text": [
      "0\n",
      "1\n",
      "2\n",
      "3\n",
      "4\n",
      "5\n",
      "6\n",
      "7\n",
      "8\n",
      "9\n",
      "10\n",
      "11\n",
      "12\n",
      "13\n",
      "14\n",
      "15\n",
      "16\n",
      "17\n",
      "18\n",
      "19\n",
      "20\n",
      "21\n",
      "22\n",
      "23\n",
      "24\n",
      "25\n",
      "26\n",
      "27\n",
      "28\n",
      "29\n",
      "30\n",
      "31\n",
      "32\n",
      "33\n",
      "34\n",
      "35\n",
      "36\n",
      "37\n",
      "38\n",
      "39\n",
      "40\n",
      "41\n",
      "42\n",
      "43\n",
      "IALM Finished at iteration 44\n"
     ]
    },
    {
     "data": {
      "text/plain": [
       "500"
      ]
     },
     "execution_count": 234,
     "metadata": {},
     "output_type": "execute_result"
    }
   ],
   "source": [
    "np.linalg.matrix_rank(inexact_augmented_lagrange_multiplier(generate(n = 500, s = 10000, rank = 100))[0])"
   ]
  },
  {
   "cell_type": "code",
   "execution_count": null,
   "metadata": {},
   "outputs": [],
   "source": []
  }
 ],
 "metadata": {
  "kernelspec": {
   "display_name": "Python 3.8.5 ('base')",
   "language": "python",
   "name": "python3"
  },
  "language_info": {
   "codemirror_mode": {
    "name": "ipython",
    "version": 3
   },
   "file_extension": ".py",
   "mimetype": "text/x-python",
   "name": "python",
   "nbconvert_exporter": "python",
   "pygments_lexer": "ipython3",
   "version": "3.8.5"
  },
  "orig_nbformat": 4,
  "vscode": {
   "interpreter": {
    "hash": "d8120ee31258fea4ecf0035573bffd909f93a0eb63070ba478b2a768e87abe36"
   }
  }
 },
 "nbformat": 4,
 "nbformat_minor": 2
}
